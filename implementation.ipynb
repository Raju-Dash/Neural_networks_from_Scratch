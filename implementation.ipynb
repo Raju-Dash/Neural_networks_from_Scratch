{
 "cells": [
  {
   "cell_type": "code",
   "execution_count": 1,
   "metadata": {},
   "outputs": [],
   "source": [
    "import numpy as np\n",
    "\n",
    "import matplotlib.pyplot as plt\n",
    "import seaborn as sns"
   ]
  },
  {
   "cell_type": "markdown",
   "metadata": {},
   "source": [
    "# Implement neural network from scratch"
   ]
  },
  {
   "cell_type": "code",
   "execution_count": 21,
   "metadata": {},
   "outputs": [],
   "source": [
    "def sigmoid(x):\n",
    "    return 1. / (1 + np.exp(-x))\n",
    "\n",
    "\n",
    "def softmax(X):\n",
    "    \"\"\"assume that X has shape (batch_size, n_classes)\"\"\"\n",
    "    assert X.ndim == 2, \"X must be a 2D array\"\n",
    "    X_exp = np.exp(X - X.max(axis=1, keepdims=True))\n",
    "    norm_factor = X_exp.sum(axis=1, keepdims=True)\n",
    "    return X_exp / norm_factor\n",
    "\n",
    "\n",
    "def cross_entropy(y_hat, y):\n",
    "    assert y_hat.ndim == 2, \"y_hat must be 2D array\"\n",
    "    assert y_hat.shape == y.shape, \"y_hat and y must have same shape\"\n",
    "    \n",
    "    y = y.argmax(axis=1)\n",
    "    idx0 = range(y_hat.shape[0])\n",
    "    return -np.mean(np.log(y_hat[idx0, y]))\n",
    "\n",
    "\n",
    "def weight_initializer(n_inputs, n_units):\n",
    "    alpha = 1 / np.sqrt(n_inputs)\n",
    "    return np.random.uniform(low=-alpha, high=alpha, size=(n_inputs, n_units))\n",
    "\n",
    "\n",
    "def bias_initializer(n_inputs, n_units):\n",
    "    alpha = 1 / np.sqrt(n_inputs)\n",
    "    return np.random.uniform(low=-alpha, high=alpha, size=(1, n_units))"
   ]
  },
  {
   "cell_type": "code",
   "execution_count": 22,
   "metadata": {},
   "outputs": [],
   "source": [
    "def data_generator(X, y, batch_size=32):\n",
    "    assert X.shape[0] == y.shape[0], \"X and y must have the same first shape\"\n",
    "    \n",
    "    nsamples = X.shape[0]\n",
    "    idx = np.arange(nsamples)\n",
    "    np.random.shuffle(idx)\n",
    "    \n",
    "    niter = nsamples // batch_size\n",
    "    for i in range(niter):\n",
    "        lower = i * batch_size\n",
    "        upper = (i + 1) * batch_size\n",
    "        yield X[lower: upper], y[lower: upper]"
   ]
  },
  {
   "cell_type": "code",
   "execution_count": 28,
   "metadata": {},
   "outputs": [],
   "source": [
    "def feedforward(X, \n",
    "                W_1, b_1, \n",
    "                W_2, b_2, \n",
    "                W_o, b_o):\n",
    "    Z_1 = X.dot(W_1) + b_1\n",
    "    H_1 = sigmoid(Z_1)\n",
    "    \n",
    "    Z_2 = H_1.dot(W_2) + b_2\n",
    "    H_2 = sigmoid(Z_2)\n",
    "    \n",
    "    Z_o = H_2.dot(W_o) + b_o\n",
    "    y_hat = softmax(Z_o)\n",
    "    \n",
    "    return H_1, H_2, y_hat\n",
    "\n",
    "\n",
    "def predict(X, \n",
    "            W_1, b_1, \n",
    "            W_2, b_2, \n",
    "            W_o, b_o):\n",
    "    _, _, y_hat = feedforward_(X, W_1, b_1, W_2, b_2, W_o, b_o)\n",
    "    return y_hat\n",
    "\n",
    "\n",
    "def backpropagation(X, y, y_hat, W_o, W_2, H_2, H_1):\n",
    "    delta_o = y_hat - y\n",
    "    dL_dW_o = H_2.T.dot(delta_o)\n",
    "    dL_db_o = delta_o.sum(axis=0, keepdims=True)\n",
    "    \n",
    "    delta_2 = delta_o.dot(W_o.T) * H_2 * (1 - H_2)\n",
    "    dL_dW_2 = H_1.T.dot(delta_2)\n",
    "    dL_db_2 = delta_2.sum(axis=0, keepdims=True)\n",
    "    \n",
    "    delta_1 = delta_2.dot(W_2.T) * H_1 * (1 - H_1)\n",
    "    dL_dW_1 = X.T.dot(delta_1)\n",
    "    dL_db_1 = delta_1.sum(axis=0, keepdims=True)\n",
    "    \n",
    "    return dL_dW_o, dL_db_o, dL_dW_2, dL_db_2, dL_dW_1, dL_db_1\n",
    "\n",
    "\n",
    "def gradient_descent(X_train, y_train, d_1=32, d_2=32,\n",
    "                     epochs=10, batch_size=32, learning_rate=0.05, \n",
    "                     acc_to_keep_params=0.97):\n",
    "    history = {\"loss\":[], \"accuracy\":[], \"weight\": [], \"bias\": []}\n",
    "    \n",
    "    d = X_train.shape[1]\n",
    "    k = y_train.shape[1]\n",
    "    \n",
    "    # initialize weight and bias\n",
    "    W_1 = weight_initializer(d, d_1)\n",
    "    b_1 = bias_initializer(d, d_1)\n",
    "    \n",
    "    W_2 = weight_initializer(d_1, d_2)\n",
    "    b_2 = bias_initializer(d_1, d_2)\n",
    "    \n",
    "    W_o = weight_initializer(d_2, k)\n",
    "    b_o = bias_initializer(d_2, k)\n",
    "    \n",
    "    for epoch in range(epochs):\n",
    "        gen = data_generator(X_train, y_train, batch_size=batch_size)\n",
    "        \n",
    "        for X_batch, y_batch in gen:\n",
    "            H_1, H_2, y_hat = feedforward(X_batch, W_1, b_1, W_2, b_2, W_o, b_o)\n",
    "            dL_dW_o, dL_db_o, dL_dW_2, dL_db_2, dL_dW_1, dL_db_1 = backpropagation(X_batch, y_batch, y_hat, \n",
    "                                                                                   W_o, W_2, H_2, H_1)\n",
    "            \n",
    "            W_1 -= learning_rate * dL_dW_1\n",
    "            b_1 -= learning_rate * dL_db_1\n",
    "            \n",
    "            W_2 -= learning_rate * dL_dW_2\n",
    "            b_2 -= learning_rate * dL_db_2\n",
    "            \n",
    "            W_o -= learning_rate * dL_dW_o\n",
    "            b_o -= learning_rate * dL_db_o\n",
    "        \n",
    "        y_hat = predict(X_train, W_1, b_1, W_2, b_2, W_o, b_o)\n",
    "        loss = cross_entropy(y_hat, y_train)\n",
    "        acc = accuracy(y_hat, y_train)\n",
    "        \n",
    "        history[\"loss\"].append(loss)\n",
    "        history[\"accuracy\"].append(acc)\n",
    "        \n",
    "        history[\"weight\"].append((W_1, W_2, W_o))\n",
    "        history[\"bias\"].append((b_1, b_2, b_o))\n",
    "            \n",
    "        print(\"epoch %d, loss=%0.5f,  acc=%0.5f\" %(epoch, loss, acc))\n",
    "    \n",
    "    return history, kept_params"
   ]
  },
  {
   "cell_type": "code",
   "execution_count": 16,
   "metadata": {},
   "outputs": [],
   "source": [
    "if False:\n",
    "    !pip install python-mnist"
   ]
  },
  {
   "cell_type": "code",
   "execution_count": 17,
   "metadata": {},
   "outputs": [],
   "source": [
    "if False:\n",
    "    !mkdir data\n",
    "    !wget -q http://yann.lecun.com/exdb/mnist/train-images-idx3-ubyte.gz -P data/\n",
    "    !wget -q http://yann.lecun.com/exdb/mnist/train-labels-idx1-ubyte.gz -P data/\n",
    "    !wget -q http://yann.lecun.com/exdb/mnist/t10k-images-idx3-ubyte.gz -P data/\n",
    "    !wget -q http://yann.lecun.com/exdb/mnist/t10k-labels-idx1-ubyte.gz -P data/\n",
    "    !gunzip data/t*-ubyte.gz"
   ]
  },
  {
   "cell_type": "code",
   "execution_count": 18,
   "metadata": {},
   "outputs": [],
   "source": [
    "from mnist import MNIST\n",
    "from scipy import sparse\n",
    "\n",
    "def load_dataset(path_to_data):\n",
    "    mndata = MNIST(path_to_data)\n",
    "    X_train, y_train = map(np.array, mndata.load_training())\n",
    "    X_test, y_test = map(np.array, mndata.load_testing())\n",
    "    X_train = X_train / 255.0 \n",
    "    X_test = X_test / 255.0\n",
    "    return X_train , y_train , X_test , y_test\n",
    "\n",
    "\n",
    "def convert_labels(y, C = 10): \n",
    "    \"\"\"\n",
    "    This function is adopted from Machinelearningcoban https://machinelearningcoban.com/2017/02/17/softmax/\n",
    "    Convert 1d label to a matrix label: each column of this matrix coresponding to 1 element in y. In i-th column of Y,\n",
    "    only one non-zeros element located in the y[i]-th position, and = 1 ex: y = [0, 2, 1, 0], and 3 classes then return\n",
    "    [[1, 0, 0, 0],\n",
    "    [0, 0, 1, 0], [0, 1, 0, 0]]\n",
    "    \"\"\"\n",
    "    Y = sparse.coo_matrix((np.ones_like(y), (y, np.arange(len(y)))), shape = (C, len(y))).toarray() \n",
    "    # should take transpose\n",
    "    return Y.T"
   ]
  },
  {
   "cell_type": "code",
   "execution_count": 19,
   "metadata": {},
   "outputs": [
    {
     "data": {
      "text/plain": [
       "((60000, 784), (60000, 10), (10000, 784), (10000, 10))"
      ]
     },
     "execution_count": 19,
     "metadata": {},
     "output_type": "execute_result"
    }
   ],
   "source": [
    "path_to_data = \"data\" # Replace ’data/’ by the data folder \n",
    "X_train, y_train, X_test, y_test = load_dataset(path_to_data)\n",
    "\n",
    "y_train = convert_labels(y_train)\n",
    "y_test = convert_labels(y_test)\n",
    "\n",
    "X_train.shape, y_train.shape, X_test.shape, y_test.shape "
   ]
  },
  {
   "cell_type": "code",
   "execution_count": 20,
   "metadata": {},
   "outputs": [
    {
     "name": "stdout",
     "output_type": "stream",
     "text": [
      "Size of X train:  (60000, 784)\n",
      "Size of y train:  (60000, 10)\n",
      "Size of X test:  (10000, 784)\n",
      "Size of y test:  (10000, 10)\n"
     ]
    },
    {
     "data": {
      "image/png": "[encoded data removed]",
      "text/plain": [
       "<Figure size 1080x360 with 5 Axes>"
      ]
     },
     "metadata": {
      "needs_background": "light"
     },
     "output_type": "display_data"
    }
   ],
   "source": [
    "# To check shapes of the data\n",
    "print(\"Size of X train: \", X_train.shape) # (60000, 784) \n",
    "print(\"Size of y train: \", y_train.shape) # (60000, 10)\n",
    "print(\"Size of X test: \", X_test.shape) # (10000, 784) \n",
    "print(\"Size of y test: \", y_test.shape) # (10000, 10)\n",
    "\n",
    "# These lines will show first 5 images of the training X data\n",
    "import matplotlib.pyplot as plt\n",
    "fig, axes = plt.subplots(ncols=5, figsize=(15,5))\n",
    "for i in range(5): axes[i].imshow(X_train[i].reshape(28,28))\n",
    "plt.show()"
   ]
  },
  {
   "cell_type": "code",
   "execution_count": 23,
   "metadata": {},
   "outputs": [],
   "source": [
    "def accuracy(y_hat, y):\n",
    "    assert y_hat.shape == y.shape, \"y_hat and y must have the same shape\"\n",
    "    y_hat = y_hat.argmax(axis=1)\n",
    "    y = y.argmax(axis=1)\n",
    "    \n",
    "    return (y_hat == y).mean()"
   ]
  },
  {
   "cell_type": "markdown",
   "metadata": {},
   "source": [
    "## (a) Implement wide network"
   ]
  },
  {
   "cell_type": "code",
   "execution_count": 25,
   "metadata": {},
   "outputs": [
    {
     "name": "stdout",
     "output_type": "stream",
     "text": [
      "epoch 0, loss=0.15415,  acc=0.95157\n",
      "epoch 1, loss=0.10996,  acc=0.96640\n",
      "epoch 2, loss=0.09057,  acc=0.97093\n",
      "epoch 3, loss=0.08161,  acc=0.97328\n",
      "epoch 4, loss=0.07097,  acc=0.97700\n",
      "epoch 5, loss=0.06061,  acc=0.98022\n",
      "epoch 6, loss=0.04902,  acc=0.98402\n",
      "epoch 7, loss=0.04325,  acc=0.98557\n",
      "epoch 8, loss=0.03651,  acc=0.98783\n",
      "epoch 9, loss=0.03842,  acc=0.98668\n"
     ]
    }
   ],
   "source": [
    "history, kept_params = gradient_descent_wide(X_train, y_train, epochs=10, batch_size=32, learning_rate=0.05, \n",
    "                                             acc_to_keep_params=0.97)"
   ]
  },
  {
   "cell_type": "code",
   "execution_count": 26,
   "metadata": {},
   "outputs": [
    {
     "name": "stdout",
     "output_type": "stream",
     "text": [
      "Test loss: 0.12479\n",
      "Test accuracy: 0.96390\n"
     ]
    }
   ],
   "source": [
    "W_h1, W_o = kept_params[\"weight\"]\n",
    "b_h1, b_o = kept_params[\"bias\"]\n",
    "\n",
    "y_pred_test = predict_wide(X_test, W_h1, b_h1, W_o, b_o)\n",
    "\n",
    "loss_test = cross_entropy(y_pred_test, y_test)\n",
    "acc_test = accuracy(y_pred_test, y_test)\n",
    "\n",
    "print(\"Test loss: %0.5f\" %loss_test)\n",
    "print(\"Test accuracy: %0.5f\" %acc_test)"
   ]
  },
  {
   "cell_type": "code",
   "execution_count": 27,
   "metadata": {},
   "outputs": [
    {
     "data": {
      "text/plain": [
       "Text(0, 0.5, 'train loss')"
      ]
     },
     "execution_count": 27,
     "metadata": {},
     "output_type": "execute_result"
    },
    {
     "data": {
      "image/png": "[encoded data removed]",
      "text/plain": [
       "<Figure size 432x288 with 1 Axes>"
      ]
     },
     "metadata": {
      "needs_background": "light"
     },
     "output_type": "display_data"
    }
   ],
   "source": [
    "loss_train = history[\"loss\"]\n",
    "epochs = np.arange(len(loss_train))\n",
    "\n",
    "plt.plot(epochs, loss_train, \"b-\", marker=\".\")\n",
    "plt.xlabel(\"epoch\")\n",
    "plt.ylabel(\"train loss\")"
   ]
  },
  {
   "cell_type": "markdown",
   "metadata": {},
   "source": [
    "## (b) Implement deep network"
   ]
  },
  {
   "cell_type": "code",
   "execution_count": 29,
   "metadata": {},
   "outputs": [
    {
     "name": "stdout",
     "output_type": "stream",
     "text": [
      "epoch 0, loss=0.20818,  acc=0.93515\n",
      "epoch 1, loss=0.15238,  acc=0.95275\n",
      "epoch 2, loss=0.12951,  acc=0.96023\n",
      "epoch 3, loss=0.10959,  acc=0.96528\n",
      "epoch 4, loss=0.10070,  acc=0.96980\n",
      "epoch 5, loss=0.09688,  acc=0.96988\n",
      "epoch 6, loss=0.10757,  acc=0.96618\n",
      "epoch 7, loss=0.09672,  acc=0.96982\n",
      "epoch 8, loss=0.09380,  acc=0.96950\n",
      "epoch 9, loss=0.09251,  acc=0.97078\n"
     ]
    }
   ],
   "source": [
    "history, kept_params = gradient_descent_deep(X_train, y_train, epochs=10, batch_size=32, learning_rate=0.05, \n",
    "                                             acc_to_keep_params=0.97)"
   ]
  },
  {
   "cell_type": "code",
   "execution_count": 30,
   "metadata": {},
   "outputs": [
    {
     "name": "stdout",
     "output_type": "stream",
     "text": [
      "Test loss: 0.15827\n",
      "Test accuracy: 0.95400\n"
     ]
    }
   ],
   "source": [
    "W_h1, W_h2, W_o = kept_params[\"weight\"]\n",
    "b_h1, b_h2, b_o = kept_params[\"bias\"]\n",
    "\n",
    "y_pred_test = predict_deep(X_test, W_h1, b_h1, W_h2, b_h2, W_o, b_o)\n",
    "\n",
    "loss_test = cross_entropy(y_pred_test, y_test)\n",
    "acc_test = accuracy(y_pred_test, y_test)\n",
    "\n",
    "print(\"Test loss: %0.5f\" %loss_test)\n",
    "print(\"Test accuracy: %0.5f\" %acc_test)"
   ]
  },
  {
   "cell_type": "code",
   "execution_count": 31,
   "metadata": {},
   "outputs": [
    {
     "data": {
      "text/plain": [
       "Text(0, 0.5, 'train loss')"
      ]
     },
     "execution_count": 31,
     "metadata": {},
     "output_type": "execute_result"
    },
    {
     "data": {
      "image/png": "[encoded data removed]",
      "text/plain": [
       "<Figure size 432x288 with 1 Axes>"
      ]
     },
     "metadata": {
      "needs_background": "light"
     },
     "output_type": "display_data"
    }
   ],
   "source": [
    "loss_train = history[\"loss\"]\n",
    "epochs = np.arange(len(loss_train))\n",
    "\n",
    "plt.plot(epochs, loss_train, \"b-\", marker=\".\")\n",
    "plt.xlabel(\"epoch\")\n",
    "plt.ylabel(\"train loss\")"
   ]
  },
  {
   "cell_type": "markdown",
   "metadata": {},
   "source": [
    "## (c) Number of parameters"
   ]
  },
  {
   "cell_type": "code",
   "execution_count": 32,
   "metadata": {},
   "outputs": [
    {
     "data": {
      "text/plain": [
       "50890"
      ]
     },
     "execution_count": 32,
     "metadata": {},
     "output_type": "execute_result"
    }
   ],
   "source": [
    "# For wide network\n",
    "(784 * 64) + 64 + (64 * 10) + 10"
   ]
  },
  {
   "cell_type": "code",
   "execution_count": 33,
   "metadata": {},
   "outputs": [
    {
     "data": {
      "text/plain": [
       "26506"
      ]
     },
     "execution_count": 33,
     "metadata": {},
     "output_type": "execute_result"
    }
   ],
   "source": [
    "# For deep network\n",
    "(784 * 32) + 32 + (32 * 32) + 32 + (32 * 10) + 10"
   ]
  },
  {
   "cell_type": "markdown",
   "metadata": {},
   "source": [
    "The deep network uses less parameters than the wide one. Without optimizing hyperparameters, the wide network seems to give better test accuracy than the deep one. But in general deep networks are more efficient than wide ones in terms of reducing the number of parameters and still achiving the same accuracy. The reason is that deep networks are better at capturing hierarchical patterns in the data."
   ]
  }
 ],
 "metadata": {
  "kernelspec": {
   "display_name": "Python 3",
   "language": "python",
   "name": "python3"
  },
  "language_info": {
   "codemirror_mode": {
    "name": "ipython",
    "version": 3
   },
   "file_extension": ".py",
   "mimetype": "text/x-python",
   "name": "python",
   "nbconvert_exporter": "python",
   "pygments_lexer": "ipython3",
   "version": "3.7.3"
  }
 },
 "nbformat": 4,
 "nbformat_minor": 2
}
