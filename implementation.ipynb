{
 "cells": [
  {
   "cell_type": "code",
   "execution_count": 1,
   "metadata": {},
   "outputs": [],
   "source": [
    "import numpy as np\n",
    "\n",
    "import matplotlib.pyplot as plt\n",
    "import seaborn as sns\n",
    "\n",
    "from sklearn.datasets import fetch_openml"
   ]
  },
  {
   "cell_type": "markdown",
   "metadata": {},
   "source": [
    "# Implement neural network from scratch"
   ]
  },
  {
   "cell_type": "code",
   "execution_count": 2,
   "metadata": {},
   "outputs": [],
   "source": [
    "def sigmoid(x):\n",
    "    return 1. / (1 + np.exp(-x))\n",
    "\n",
    "\n",
    "def softmax(X):\n",
    "    \"\"\"assume that X has shape (batch_size, n_classes)\"\"\"\n",
    "    assert X.ndim == 2, \"X must be a 2D array\"\n",
    "    X_exp = np.exp(X - X.max(axis=1, keepdims=True))\n",
    "    norm_factor = X_exp.sum(axis=1, keepdims=True)\n",
    "    return X_exp / norm_factor\n",
    "\n",
    "\n",
    "def cross_entropy(y_hat, y):\n",
    "    assert y_hat.ndim == 2, \"y_hat must be 2D array\"\n",
    "    assert y_hat.shape == y.shape, \"y_hat and y must have same shape\"\n",
    "    \n",
    "    y = y.argmax(axis=1)\n",
    "    idx0 = range(y_hat.shape[0])\n",
    "    return -np.mean(np.log(y_hat[idx0, y]))\n",
    "\n",
    "\n",
    "def weight_initializer(n_inputs, n_units):\n",
    "    alpha = 1 / np.sqrt(n_inputs)\n",
    "    return np.random.uniform(low=-alpha, high=alpha, size=(n_inputs, n_units))\n",
    "\n",
    "\n",
    "def bias_initializer(n_inputs, n_units):\n",
    "    alpha = 1 / np.sqrt(n_inputs)\n",
    "    return np.random.uniform(low=-alpha, high=alpha, size=(1, n_units))"
   ]
  },
  {
   "cell_type": "code",
   "execution_count": 3,
   "metadata": {},
   "outputs": [],
   "source": [
    "def data_generator(X, y, batch_size=32):\n",
    "    assert X.shape[0] == y.shape[0], \"X and y must have the same first shape\"\n",
    "    \n",
    "    nsamples = X.shape[0]\n",
    "    idx = np.arange(nsamples)\n",
    "    np.random.shuffle(idx)\n",
    "    \n",
    "    niter = nsamples // batch_size\n",
    "    for i in range(niter):\n",
    "        lower = i * batch_size\n",
    "        upper = (i + 1) * batch_size\n",
    "        yield X[lower: upper], y[lower: upper]"
   ]
  },
  {
   "cell_type": "code",
   "execution_count": 4,
   "metadata": {},
   "outputs": [],
   "source": [
    "def feedforward(X, \n",
    "                W_1, b_1, \n",
    "                W_2, b_2, \n",
    "                W_o, b_o):\n",
    "    Z_1 = X.dot(W_1) + b_1\n",
    "    H_1 = sigmoid(Z_1)\n",
    "    \n",
    "    Z_2 = H_1.dot(W_2) + b_2\n",
    "    H_2 = sigmoid(Z_2)\n",
    "    \n",
    "    Z_o = H_2.dot(W_o) + b_o\n",
    "    y_hat = softmax(Z_o)\n",
    "    \n",
    "    return H_1, H_2, y_hat\n",
    "\n",
    "\n",
    "def predict(X, \n",
    "            W_1, b_1, \n",
    "            W_2, b_2, \n",
    "            W_o, b_o):\n",
    "    _, _, y_hat = feedforward(X, W_1, b_1, W_2, b_2, W_o, b_o)\n",
    "    return y_hat\n",
    "\n",
    "\n",
    "def backpropagation(X, y, y_hat, W_o, W_2, H_2, H_1):\n",
    "    delta_o = y_hat - y\n",
    "    dL_dW_o = H_2.T.dot(delta_o)\n",
    "    dL_db_o = delta_o.sum(axis=0, keepdims=True)\n",
    "    \n",
    "    delta_2 = delta_o.dot(W_o.T) * H_2 * (1 - H_2)\n",
    "    dL_dW_2 = H_1.T.dot(delta_2)\n",
    "    dL_db_2 = delta_2.sum(axis=0, keepdims=True)\n",
    "    \n",
    "    delta_1 = delta_2.dot(W_2.T) * H_1 * (1 - H_1)\n",
    "    dL_dW_1 = X.T.dot(delta_1)\n",
    "    dL_db_1 = delta_1.sum(axis=0, keepdims=True)\n",
    "    \n",
    "    return dL_dW_o, dL_db_o, dL_dW_2, dL_db_2, dL_dW_1, dL_db_1\n",
    "\n",
    "\n",
    "def gradient_descent(X_train, y_train, d_1=64, d_2=64,\n",
    "                     epochs=10, batch_size=32, learning_rate=0.05):\n",
    "    \n",
    "    history = {\"loss\":[], \"accuracy\":[], \"weight\": [], \"bias\": []}\n",
    "    \n",
    "    d = X_train.shape[1]\n",
    "    k = y_train.shape[1]\n",
    "    \n",
    "    # initialize weight and bias\n",
    "    W_1 = weight_initializer(d, d_1)\n",
    "    b_1 = bias_initializer(d, d_1)\n",
    "    \n",
    "    W_2 = weight_initializer(d_1, d_2)\n",
    "    b_2 = bias_initializer(d_1, d_2)\n",
    "    \n",
    "    W_o = weight_initializer(d_2, k)\n",
    "    b_o = bias_initializer(d_2, k)\n",
    "    \n",
    "    for epoch in range(epochs):\n",
    "        gen = data_generator(X_train, y_train, batch_size=batch_size)\n",
    "        \n",
    "        for X_batch, y_batch in gen:\n",
    "            H_1, H_2, y_hat = feedforward(X_batch, W_1, b_1, W_2, b_2, W_o, b_o)\n",
    "            dL_dW_o, dL_db_o, dL_dW_2, dL_db_2, dL_dW_1, dL_db_1 = backpropagation(X_batch, y_batch, y_hat, \n",
    "                                                                                   W_o, W_2, H_2, H_1)\n",
    "            \n",
    "            W_1 -= learning_rate * dL_dW_1\n",
    "            b_1 -= learning_rate * dL_db_1\n",
    "            \n",
    "            W_2 -= learning_rate * dL_dW_2\n",
    "            b_2 -= learning_rate * dL_db_2\n",
    "            \n",
    "            W_o -= learning_rate * dL_dW_o\n",
    "            b_o -= learning_rate * dL_db_o\n",
    "        \n",
    "        y_hat = predict(X_train, W_1, b_1, W_2, b_2, W_o, b_o)\n",
    "        loss = cross_entropy(y_hat, y_train)\n",
    "        acc = accuracy(y_hat, y_train)\n",
    "        \n",
    "        history[\"loss\"].append(loss)\n",
    "        history[\"accuracy\"].append(acc)\n",
    "        \n",
    "        history[\"weight\"].append((W_1, W_2, W_o))\n",
    "        history[\"bias\"].append((b_1, b_2, b_o))\n",
    "            \n",
    "        print(\"epoch %d, loss=%0.5f,  acc=%0.5f\" %(epoch, loss, acc))\n",
    "    \n",
    "    return history"
   ]
  },
  {
   "cell_type": "code",
   "execution_count": 5,
   "metadata": {},
   "outputs": [],
   "source": [
    "def onehot_label(y):\n",
    "    unique_labels = np.unique(y)\n",
    "    assert unique_labels.min() == 0\n",
    "    assert unique_labels.max() == unique_labels.shape[0] - 1\n",
    "    \n",
    "    k = unique_labels.shape[0]\n",
    "    n = y.shape[0]\n",
    "    y_onehot = np.zeros([n, k], dtype=\"int\")\n",
    "    idx0 = np.arange(n)\n",
    "    y_onehot[idx0, y] = 1\n",
    "    return y_onehot"
   ]
  },
  {
   "cell_type": "code",
   "execution_count": 6,
   "metadata": {},
   "outputs": [],
   "source": [
    "def accuracy(y_hat, y):\n",
    "    assert y_hat.shape == y.shape, \"y_hat and y must have the same shape\"\n",
    "    y_hat = y_hat.argmax(axis=1)\n",
    "    y = y.argmax(axis=1)\n",
    "    \n",
    "    return (y_hat == y).mean()"
   ]
  },
  {
   "cell_type": "markdown",
   "metadata": {},
   "source": [
    "# Load MNIST data"
   ]
  },
  {
   "cell_type": "code",
   "execution_count": 7,
   "metadata": {},
   "outputs": [
    {
     "data": {
      "text/plain": [
       "dict_keys(['data', 'target', 'frame', 'categories', 'feature_names', 'target_names', 'DESCR', 'details', 'url'])"
      ]
     },
     "execution_count": 7,
     "metadata": {},
     "output_type": "execute_result"
    }
   ],
   "source": [
    "mnist = fetch_openml('mnist_784', version=1)\n",
    "mnist.keys()"
   ]
  },
  {
   "cell_type": "code",
   "execution_count": 8,
   "metadata": {},
   "outputs": [],
   "source": [
    "X = mnist[\"data\"]\n",
    "y = mnist[\"target\"].astype(np.int32)"
   ]
  },
  {
   "cell_type": "code",
   "execution_count": 9,
   "metadata": {},
   "outputs": [
    {
     "data": {
      "image/png": "[encoded data removed]",
      "text/plain": [
       "<Figure size 1080x360 with 5 Axes>"
      ]
     },
     "metadata": {
      "needs_background": "light"
     },
     "output_type": "display_data"
    }
   ],
   "source": [
    "fig, ax = plt.subplots(ncols=5, figsize=(15,5))\n",
    "for i in range(5): \n",
    "    ax[i].imshow(X[i].reshape(28,28))\n",
    "plt.show()"
   ]
  },
  {
   "cell_type": "code",
   "execution_count": 10,
   "metadata": {},
   "outputs": [
    {
     "data": {
      "text/plain": [
       "((60000, 784), (60000, 10), (10000, 784), (10000, 10))"
      ]
     },
     "execution_count": 10,
     "metadata": {},
     "output_type": "execute_result"
    }
   ],
   "source": [
    "X = X / 255.0\n",
    "y = onehot_label(y)\n",
    "\n",
    "X_train, y_train = X[:60_000], y[:60_000]\n",
    "X_test, y_test = X[60_000:], y[60_000:]\n",
    "\n",
    "X_train.shape, y_train.shape, X_test.shape, y_test.shape"
   ]
  },
  {
   "cell_type": "markdown",
   "metadata": {},
   "source": [
    "# Train model"
   ]
  },
  {
   "cell_type": "code",
   "execution_count": 11,
   "metadata": {},
   "outputs": [
    {
     "name": "stdout",
     "output_type": "stream",
     "text": [
      "epoch 0, loss=0.16892,  acc=0.94832\n",
      "epoch 1, loss=0.11715,  acc=0.96352\n",
      "epoch 2, loss=0.08693,  acc=0.97298\n",
      "epoch 3, loss=0.07692,  acc=0.97577\n",
      "epoch 4, loss=0.07184,  acc=0.97707\n",
      "epoch 5, loss=0.06861,  acc=0.97765\n",
      "epoch 6, loss=0.06620,  acc=0.97817\n",
      "epoch 7, loss=0.06616,  acc=0.97842\n",
      "epoch 8, loss=0.04926,  acc=0.98420\n",
      "epoch 9, loss=0.05253,  acc=0.98292\n",
      "epoch 10, loss=0.04944,  acc=0.98380\n",
      "epoch 11, loss=0.04049,  acc=0.98643\n",
      "epoch 12, loss=0.03733,  acc=0.98777\n",
      "epoch 13, loss=0.03772,  acc=0.98675\n",
      "epoch 14, loss=0.03005,  acc=0.98992\n",
      "epoch 15, loss=0.04028,  acc=0.98622\n",
      "epoch 16, loss=0.02753,  acc=0.99140\n",
      "epoch 17, loss=0.02277,  acc=0.99258\n",
      "epoch 18, loss=0.02250,  acc=0.99275\n",
      "epoch 19, loss=0.01878,  acc=0.99348\n"
     ]
    }
   ],
   "source": [
    "history = gradient_descent(X_train, y_train, epochs=20, batch_size=32, learning_rate=0.05)"
   ]
  },
  {
   "cell_type": "code",
   "execution_count": 12,
   "metadata": {},
   "outputs": [
    {
     "data": {
      "text/plain": [
       "Text(0, 0.5, 'train loss')"
      ]
     },
     "execution_count": 12,
     "metadata": {},
     "output_type": "execute_result"
    },
    {
     "data": {
      "image/png": "[encoded data removed]",
      "text/plain": [
       "<Figure size 432x288 with 1 Axes>"
      ]
     },
     "metadata": {
      "needs_background": "light"
     },
     "output_type": "display_data"
    }
   ],
   "source": [
    "loss_train = history[\"loss\"]\n",
    "epochs = np.arange(len(loss_train))\n",
    "\n",
    "plt.plot(epochs, loss_train, \"b-\", marker=\".\")\n",
    "plt.xlabel(\"epoch\")\n",
    "plt.ylabel(\"train loss\")"
   ]
  },
  {
   "cell_type": "code",
   "execution_count": 13,
   "metadata": {},
   "outputs": [
    {
     "name": "stdout",
     "output_type": "stream",
     "text": [
      "Test loss: 0.12865\n",
      "Test accuracy: 0.97030\n"
     ]
    }
   ],
   "source": [
    "W_1, W_2, W_o = history[\"weight\"][-1]\n",
    "b_1, b_2, b_o = history[\"bias\"][-1]\n",
    "\n",
    "y_pred_test = predict(X_test, W_1, b_1, W_2, b_2, W_o, b_o)\n",
    "\n",
    "loss_test = cross_entropy(y_pred_test, y_test)\n",
    "acc_test = accuracy(y_pred_test, y_test)\n",
    "\n",
    "print(\"Test loss: %0.5f\" %loss_test)\n",
    "print(\"Test accuracy: %0.5f\" %acc_test)"
   ]
  }
 ],
 "metadata": {
  "kernelspec": {
   "display_name": "Python 3",
   "language": "python",
   "name": "python3"
  },
  "language_info": {
   "codemirror_mode": {
    "name": "ipython",
    "version": 3
   },
   "file_extension": ".py",
   "mimetype": "text/x-python",
   "name": "python",
   "nbconvert_exporter": "python",
   "pygments_lexer": "ipython3",
   "version": "3.7.3"
  }
 },
 "nbformat": 4,
 "nbformat_minor": 2
}
